{
 "cells": [
  {
   "cell_type": "markdown",
   "metadata": {},
   "source": [
    "# Solve problem 1"
   ]
  },
  {
   "cell_type": "code",
   "execution_count": 74,
   "metadata": {},
   "outputs": [
    {
     "name": "stdout",
     "output_type": "stream",
     "text": [
      "{'fed05e9e11': 'Бытовая техника'}\n"
     ]
    }
   ],
   "source": [
    "import json\n",
    "result = {}\n",
    "with open('purchase_log.txt',\"r\", encoding=\"utf-8\") as f:\n",
    "    for line in f:\n",
    "        line = line.strip()\n",
    "        dict_ = json.loads(line)\n",
    "        result[dict_['user_id']] = dict_['category']\n",
    "print({key: value})"
   ]
  },
  {
   "cell_type": "markdown",
   "metadata": {},
   "source": [
    "# Solve problem 2"
   ]
  },
  {
   "cell_type": "code",
   "execution_count": 77,
   "metadata": {},
   "outputs": [],
   "source": [
    "with open ('visit_log.csv', 'r', encoding='utf-8') as r:\n",
    "    with open ('funnel.csv', 'w') as w:\n",
    "        for line in r:\n",
    "            line_ = line.strip().split(',')\n",
    "            category = result.get(line_[0])\n",
    "            if category != None:\n",
    "                line_.append(category)\n",
    "                new_line = ' // '.join(line_) + \"\\n\"\n",
    "                w.write(new_line)\n",
    "r.close()\n",
    "w.close()"
   ]
  }
 ],
 "metadata": {
  "kernelspec": {
   "display_name": "Python 3",
   "language": "python",
   "name": "python3"
  },
  "language_info": {
   "codemirror_mode": {
    "name": "ipython",
    "version": 3
   },
   "file_extension": ".py",
   "mimetype": "text/x-python",
   "name": "python",
   "nbconvert_exporter": "python",
   "pygments_lexer": "ipython3",
   "version": "3.8.5"
  }
 },
 "nbformat": 4,
 "nbformat_minor": 4
}
